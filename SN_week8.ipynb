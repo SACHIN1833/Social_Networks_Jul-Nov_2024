{
 "cells": [
  {
   "cell_type": "markdown",
   "metadata": {},
   "source": [
    "Lecture 110: Convergence in Repeated Matrix Multiplication (Pre-requisite 1)"
   ]
  },
  {
   "cell_type": "code",
   "execution_count": 1,
   "metadata": {},
   "outputs": [
    {
     "name": "stdout",
     "output_type": "stream",
     "text": [
      "[[3]\n",
      " [7]]\n"
     ]
    }
   ],
   "source": [
    "import numpy \n",
    "\n",
    "A=numpy.mat('1 2;3 4')\n",
    "\n",
    "v=numpy.mat('1;1')\n",
    "\n",
    "print(A*v)\n"
   ]
  },
  {
   "cell_type": "code",
   "execution_count": 4,
   "metadata": {},
   "outputs": [
    {
     "name": "stdout",
     "output_type": "stream",
     "text": [
      "[[1]\n",
      " [1]]\n",
      "######################################\n",
      "[[0.3939193 ]\n",
      " [0.91914503]]\n",
      "********************************\n",
      "[[0.41750017]\n",
      " [0.90867684]]\n",
      "********************************\n",
      "[[0.41586776]\n",
      " [0.9094251 ]]\n",
      "********************************\n",
      "[[0.41598089]\n",
      " [0.90937336]]\n",
      "********************************\n",
      "[[0.41597305]\n",
      " [0.90937694]]\n",
      "********************************\n",
      "[[0.41597359]\n",
      " [0.90937669]]\n",
      "********************************\n",
      "[[0.41597356]\n",
      " [0.90937671]]\n",
      "********************************\n",
      "[[0.41597356]\n",
      " [0.90937671]]\n",
      "********************************\n",
      "[[0.41597356]\n",
      " [0.90937671]]\n",
      "********************************\n",
      "[[0.41597356]\n",
      " [0.90937671]]\n",
      "********************************\n"
     ]
    }
   ],
   "source": [
    "import numpy \n",
    "\n",
    "A=numpy.mat('1 2;3 4')\n",
    "\n",
    "v=numpy.mat('1;1')\n",
    "\n",
    "print(v)\n",
    "\n",
    "print('######################################')\n",
    "\n",
    "for i in range(10):\n",
    "    z=A*v\n",
    "    z=z/numpy.linalg.norm(z)\n",
    "    print(z)\n",
    "    v=z\n",
    "    print('********************************')\n"
   ]
  }
 ],
 "metadata": {
  "kernelspec": {
   "display_name": "Python 3",
   "language": "python",
   "name": "python3"
  },
  "language_info": {
   "codemirror_mode": {
    "name": "ipython",
    "version": 3
   },
   "file_extension": ".py",
   "mimetype": "text/x-python",
   "name": "python",
   "nbconvert_exporter": "python",
   "pygments_lexer": "ipython3",
   "version": "3.12.3"
  }
 },
 "nbformat": 4,
 "nbformat_minor": 2
}
